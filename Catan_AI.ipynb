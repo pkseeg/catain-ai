{
 "cells": [
  {
   "cell_type": "markdown",
   "metadata": {},
   "source": [
    "# Catan AI\n",
    "## Motivation\n",
    "My wife and I want to play Settlers of Catan together during quarantine but we need a third player. Hence, this project.\n",
    "## Monte Carlo Tree Search\n",
    "The board of Catan can be represented as a\n",
    "### Game State\n",
    "![Labeled Game Board](images/game_board.png?raw=true \"Title\")"
   ]
  },
  {
   "cell_type": "markdown",
   "metadata": {},
   "source": [
    "For the purposes of this AI, the ports will always be placed on intersections"
   ]
  },
  {
   "cell_type": "code",
   "execution_count": null,
   "metadata": {},
   "outputs": [],
   "source": [
    "from catan_utils import *"
   ]
  },
  {
   "cell_type": "code",
   "execution_count": null,
   "metadata": {},
   "outputs": [],
   "source": [
    "class CatanGame:\n",
    "    def __init__(self, random_init, tile_nums, resources, ports):\n",
    "        self.board = Board(random_init,tile_nums,resources,ports)\n",
    "    \n",
    "    def __setPlayers(self,n,p1Type,p2Type,p3Type,p4Type=None):\n",
    "        self.n = n\n",
    "        if p1Type == 'human':\n",
    "            self.p1 = Player(1,'human')\n",
    "        elif p1Type == 'random':\n",
    "            self.p1 = RandomPlayer(1,'random')\n",
    "        if p2Type == 'human':\n",
    "            self.p2 = Player(1,'human')\n",
    "        elif p2Type == 'random':\n",
    "            self.p2 = RandomPlayer(2,'random')\n",
    "        if p3Type == 'human':\n",
    "            self.p3 = Player(1,'human')\n",
    "        elif p3Type == 'random':\n",
    "            self.p3 = RandomPlayer(3,'random')\n",
    "        self.players = [self.p1, self.p2, self.p3]\n",
    "        if self.n == 4:\n",
    "            if p4Type == 'human':\n",
    "                self.p4 = Player(4,'human')\n",
    "            elif p4Type == 'random':\n",
    "                self.p4 = RandomPlayer(4,'random')\n",
    "            self.players.append(self.p4)\n",
    "    \n",
    "    def __roll(self):\n",
    "        return random.randint(1,6) + random.randint(1,6)\n",
    "            \n",
    "    \n",
    "    def play(self):\n",
    "        print(\"Welcom to Catan!\")\n",
    "            \n",
    "        # Set up the players\n",
    "        n = int(input(\"How many players will you be playing with (1-4)? \"))\n",
    "        print(\"\\nRoll for settlement selection!\\nPlayer 1 will be going first.\")\n",
    "        time.sleep(2)\n",
    "        p1Type = input(\"Player 1 Type (human/ai/random): \")\n",
    "        p2Type = input(\"Player 2 Type (human/ai/random): \")\n",
    "        p3Type = input(\"Player 3 Type (human/ai/random): \")\n",
    "        if n == 4:\n",
    "            p4Type = input(\"Player 4 Type (human/ai): \")\n",
    "        else:\n",
    "            p4Type = None\n",
    "        self.__setPlayers(n,p1Type,p2Type,p3Type,p4Type)\n",
    "        \n",
    "        # Print the empty board\n",
    "        print(\"Here's the empty board\\n\\n\"+str(self.board))\n",
    "        \n",
    "        # Claim initial settlements\n",
    "        for p in self.players:\n",
    "            if p.isHuman():\n",
    "                int_num = int(input('Player '+str(p.num)+\"'s first intersection num: \"))\n",
    "                self.board.claimInt(p.num,int_num)\n",
    "                road_num = int(input('Player '+str(p.num)+\"'s first edge num: \"))\n",
    "                self.board.claimEdge(p.num,road_num)\n",
    "            else:\n",
    "                print('Player '+str(p.num)+' now selecting first intersection & road...')\n",
    "                time.sleep(2)\n",
    "                int_num, road_num = p.claimSettlement(self.board)\n",
    "                print('Player '+str(p.num)+\"'s first intersection num: \"+str(int_num))\n",
    "                print('Player '+str(p.num)+\"'s first edge num: \"+str(road_num))\n",
    "                self.board.claimInt(p.num,int_num)\n",
    "                self.board.claimEdge(p.num,road_num)\n",
    "                \n",
    "            print(\"\\nBoard\\n\"+str(self.board)+'\\n\\n')\n",
    "        \n",
    "        for p in self.players:\n",
    "            if p.isHuman():\n",
    "                int_num = int(input('Player '+str(p.num)+\"'s second intersection num: \"))\n",
    "                self.board.claimInt(p.num,int_num)\n",
    "                road_num = int(input('Player '+str(p.num)+\"'s second edge num: \"))\n",
    "                self.board.claimEdge(p.num,road_num)\n",
    "            else:\n",
    "                print('Player '+str(p.num)+' now selecting second intersection & road...')\n",
    "                time.sleep(2)\n",
    "                int_num, road_num = p.claimSettlement(self.board)\n",
    "                print('Player '+str(p.num)+\"'s second intersection num: \"+str(int_num))\n",
    "                print('Player '+str(p.num)+\"'s second edge num: \"+str(road_num))\n",
    "                self.board.claimInt(p.num,int_num)\n",
    "                self.board.claimEdge(p.num,road_num)\n",
    "                # give the random agent its cards\n",
    "                for t in self.board.intrs[int_num].tiles:\n",
    "                    p.rsrcs[t.res] += 1\n",
    "                \n",
    "            print(\"\\nBoard\\n\"+str(self.board)+'\\n\\n')\n",
    "        \n",
    "        # start the game\n",
    "        over = False\n",
    "        while not over:\n",
    "            for p in self.players:\n",
    "                action = input(\"\")\n",
    "            over = True\n",
    "        "
   ]
  },
  {
   "cell_type": "code",
   "execution_count": null,
   "metadata": {},
   "outputs": [],
   "source": [
    "tile_nums = [12,2,3,3,11,11,4,4,10,10,5,5,9,9,6,6,8,8]\n",
    "resources = ['St','St','St','Br','Br','Br','Wh','Wh','Wh','Wh','Wo','Wo','Wo','Wo','Lu','Lu','Lu','Lu','De']\n",
    "ports = ['Wh','St','Th','Wo','Th','Th','Br','Wo','Th']\n",
    "random_init = True"
   ]
  },
  {
   "cell_type": "code",
   "execution_count": null,
   "metadata": {
    "scrolled": true
   },
   "outputs": [],
   "source": [
    "game = CatanGame(random_init, tile_nums, resources, ports)\n",
    "game.play()"
   ]
  },
  {
   "cell_type": "code",
   "execution_count": null,
   "metadata": {},
   "outputs": [],
   "source": []
  }
 ],
 "metadata": {
  "kernelspec": {
   "display_name": "Python 3",
   "language": "python",
   "name": "python3"
  },
  "language_info": {
   "codemirror_mode": {
    "name": "ipython",
    "version": 3
   },
   "file_extension": ".py",
   "mimetype": "text/x-python",
   "name": "python",
   "nbconvert_exporter": "python",
   "pygments_lexer": "ipython3",
   "version": "3.5.3"
  }
 },
 "nbformat": 4,
 "nbformat_minor": 2
}
